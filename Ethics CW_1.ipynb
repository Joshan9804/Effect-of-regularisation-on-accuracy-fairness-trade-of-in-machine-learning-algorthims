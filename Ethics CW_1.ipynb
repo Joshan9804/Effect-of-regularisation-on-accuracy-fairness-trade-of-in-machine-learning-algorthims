{
 "cells": [
  {
   "cell_type": "markdown",
   "id": "7bf8da7e",
   "metadata": {},
   "source": [
    "# Ethics CourseWork"
   ]
  },
  {
   "cell_type": "markdown",
   "id": "a4d70867",
   "metadata": {},
   "source": [
    "## Import Packages"
   ]
  },
  {
   "cell_type": "code",
   "execution_count": 26,
   "id": "3086daa7",
   "metadata": {},
   "outputs": [],
   "source": [
    "import folktables\n",
    "from folktables import ACSDataSource\n",
    "import numpy as np\n",
    "\n",
    "# import numpy as np\n",
    "# import matplotlib.pyplot as plt\n",
    "\n",
    "# from aif360.algorithms.preprocessing.optim_preproc_helpers.data_preproc_functions \\\n",
    "#     import load_preproc_data_adult\n",
    "    \n",
    "# from aif360.algorithms.preprocessing.reweighing import Reweighing\n",
    "# from aif360.metrics import ClassificationMetric\n",
    "\n",
    "# from sklearn.preprocessing import StandardScaler\n",
    "# #from sklearn.linear_model import LogisticRegression\n",
    "\n",
    "# import torch\n",
    "# from torch.autograd import Variable\n",
    "# import torchvision.transforms as transforms\n",
    "# import torchvision.datasets as dsets\n",
    "# import torch.utils.data as Data"
   ]
  },
  {
   "cell_type": "code",
   "execution_count": 28,
   "id": "5aa38e7f",
   "metadata": {},
   "outputs": [],
   "source": [
    "# !pip install aif360\n",
    "# !pip install folktables"
   ]
  },
  {
   "cell_type": "code",
   "execution_count": 29,
   "id": "84c09dd4",
   "metadata": {},
   "outputs": [],
   "source": [
    "#(Age) must be greater than 16 and less than 90, and (Person weight) must be greater than or equal to 1\n",
    "def employment_filter(data):\n",
    "    \"\"\"\n",
    "    Filters for the employment prediction task\n",
    "    \"\"\"\n",
    "    df = data\n",
    "    df = df[df['AGEP'] > 16]\n",
    "    df = df[df['AGEP'] < 90]\n",
    "    df = df[df['PWGTP'] >= 1]\n",
    "    return df"
   ]
  },
  {
   "cell_type": "code",
   "execution_count": 30,
   "id": "bcfa9562",
   "metadata": {},
   "outputs": [],
   "source": [
    "ACSEmployment = folktables.BasicProblem(\n",
    "features=[\n",
    "'AGEP', #age; for range of values of features please check Appendix B.4 of Retiring Adult: New Datasets for Fair Machine Learning NeurIPS 2021 paper\n",
    "'SCHL', #educational attainment\n",
    "'MAR', #marital status\n",
    "'RELP', #relationship\n",
    "'DIS', #disability recode\n",
    "'ESP', #employment status of parents\n",
    "'CIT', #citizenship status\n",
    "'MIG', #mobility status (lived here 1 year ago)\n",
    "'MIL', #military service\n",
    "'ANC', #ancestry recode\n",
    "'NATIVITY', #nativity\n",
    "'DEAR', #hearing difficulty\n",
    "'DEYE', #vision difficulty\n",
    "'DREM', #cognitive difficulty\n",
    "'SEX', #sex\n",
    "'RAC1P', #recoded detailed race code\n",
    "'GCL', #grandparents living with grandchildren\n",
    "],\n",
    "target='ESR', #employment status recode\n",
    "target_transform=lambda x: x == 1,\n",
    "group='SEX',\n",
    "preprocess=employment_filter,\n",
    "postprocess=lambda x: np.nan_to_num(x, -1),\n",
    ")"
   ]
  },
  {
   "cell_type": "code",
   "execution_count": 32,
   "id": "40f0e089",
   "metadata": {},
   "outputs": [
    {
     "name": "stdout",
     "output_type": "stream",
     "text": [
      "Downloading data for 2018 1-Year person survey for CA...\n",
      "\n",
      "data\\2018\\1-Year\\csv_pca.zip may be corrupted. Please try deleting it and rerunning this command.\n",
      "\n",
      "Exception:  File is not a zip file\n"
     ]
    },
    {
     "ename": "FileNotFoundError",
     "evalue": "[Errno 2] No such file or directory: 'data\\\\2018\\\\1-Year\\\\psam_p06.csv'",
     "output_type": "error",
     "traceback": [
      "\u001b[1;31m---------------------------------------------------------------------------\u001b[0m",
      "\u001b[1;31mFileNotFoundError\u001b[0m                         Traceback (most recent call last)",
      "Input \u001b[1;32mIn [32]\u001b[0m, in \u001b[0;36m<cell line: 4>\u001b[1;34m()\u001b[0m\n\u001b[0;32m      1\u001b[0m \u001b[38;5;28;01mfrom\u001b[39;00m \u001b[38;5;21;01mfolktables\u001b[39;00m \u001b[38;5;28;01mimport\u001b[39;00m ACSDataSource, ACSEmployment\n\u001b[0;32m      3\u001b[0m data_source \u001b[38;5;241m=\u001b[39m ACSDataSource(survey_year\u001b[38;5;241m=\u001b[39m\u001b[38;5;124m'\u001b[39m\u001b[38;5;124m2018\u001b[39m\u001b[38;5;124m'\u001b[39m, horizon\u001b[38;5;241m=\u001b[39m\u001b[38;5;124m'\u001b[39m\u001b[38;5;124m1-Year\u001b[39m\u001b[38;5;124m'\u001b[39m, survey\u001b[38;5;241m=\u001b[39m\u001b[38;5;124m'\u001b[39m\u001b[38;5;124mperson\u001b[39m\u001b[38;5;124m'\u001b[39m)\n\u001b[1;32m----> 4\u001b[0m acs_data \u001b[38;5;241m=\u001b[39m \u001b[43mdata_source\u001b[49m\u001b[38;5;241;43m.\u001b[39;49m\u001b[43mget_data\u001b[49m\u001b[43m(\u001b[49m\u001b[43mstates\u001b[49m\u001b[38;5;241;43m=\u001b[39;49m\u001b[43m[\u001b[49m\u001b[38;5;124;43m'\u001b[39;49m\u001b[38;5;124;43mCA\u001b[39;49m\u001b[38;5;124;43m'\u001b[39;49m\u001b[43m]\u001b[49m\u001b[43m,\u001b[49m\u001b[43m \u001b[49m\u001b[43mdownload\u001b[49m\u001b[38;5;241;43m=\u001b[39;49m\u001b[38;5;28;43;01mTrue\u001b[39;49;00m\u001b[43m)\u001b[49m\n\u001b[0;32m      5\u001b[0m features, label, group \u001b[38;5;241m=\u001b[39m ACSEmployment\u001b[38;5;241m.\u001b[39mdf_to_numpy(acs_data)\n",
      "File \u001b[1;32m~\\anaconda3\\lib\\site-packages\\folktables\\acs.py:34\u001b[0m, in \u001b[0;36mACSDataSource.get_data\u001b[1;34m(self, states, density, random_seed, join_household, download)\u001b[0m\n\u001b[0;32m     32\u001b[0m \u001b[38;5;28;01mdef\u001b[39;00m \u001b[38;5;21mget_data\u001b[39m(\u001b[38;5;28mself\u001b[39m, states\u001b[38;5;241m=\u001b[39m\u001b[38;5;28;01mNone\u001b[39;00m, density\u001b[38;5;241m=\u001b[39m\u001b[38;5;241m1.0\u001b[39m, random_seed\u001b[38;5;241m=\u001b[39m\u001b[38;5;241m0\u001b[39m, join_household\u001b[38;5;241m=\u001b[39m\u001b[38;5;28;01mFalse\u001b[39;00m, download\u001b[38;5;241m=\u001b[39m\u001b[38;5;28;01mFalse\u001b[39;00m):\n\u001b[0;32m     33\u001b[0m     \u001b[38;5;124;03m\"\"\"Get data from given list of states, density, and random seed. Optionally add household features.\"\"\"\u001b[39;00m\n\u001b[1;32m---> 34\u001b[0m     data \u001b[38;5;241m=\u001b[39m \u001b[43mload_acs\u001b[49m\u001b[43m(\u001b[49m\u001b[43mroot_dir\u001b[49m\u001b[38;5;241;43m=\u001b[39;49m\u001b[38;5;28;43mself\u001b[39;49m\u001b[38;5;241;43m.\u001b[39;49m\u001b[43m_root_dir\u001b[49m\u001b[43m,\u001b[49m\n\u001b[0;32m     35\u001b[0m \u001b[43m                    \u001b[49m\u001b[43myear\u001b[49m\u001b[38;5;241;43m=\u001b[39;49m\u001b[38;5;28;43mself\u001b[39;49m\u001b[38;5;241;43m.\u001b[39;49m\u001b[43m_survey_year\u001b[49m\u001b[43m,\u001b[49m\n\u001b[0;32m     36\u001b[0m \u001b[43m                    \u001b[49m\u001b[43mstates\u001b[49m\u001b[38;5;241;43m=\u001b[39;49m\u001b[43mstates\u001b[49m\u001b[43m,\u001b[49m\n\u001b[0;32m     37\u001b[0m \u001b[43m                    \u001b[49m\u001b[43mhorizon\u001b[49m\u001b[38;5;241;43m=\u001b[39;49m\u001b[38;5;28;43mself\u001b[39;49m\u001b[38;5;241;43m.\u001b[39;49m\u001b[43m_horizon\u001b[49m\u001b[43m,\u001b[49m\n\u001b[0;32m     38\u001b[0m \u001b[43m                    \u001b[49m\u001b[43msurvey\u001b[49m\u001b[38;5;241;43m=\u001b[39;49m\u001b[38;5;28;43mself\u001b[39;49m\u001b[38;5;241;43m.\u001b[39;49m\u001b[43m_survey\u001b[49m\u001b[43m,\u001b[49m\n\u001b[0;32m     39\u001b[0m \u001b[43m                    \u001b[49m\u001b[43mdensity\u001b[49m\u001b[38;5;241;43m=\u001b[39;49m\u001b[43mdensity\u001b[49m\u001b[43m,\u001b[49m\n\u001b[0;32m     40\u001b[0m \u001b[43m                    \u001b[49m\u001b[43mrandom_seed\u001b[49m\u001b[38;5;241;43m=\u001b[39;49m\u001b[43mrandom_seed\u001b[49m\u001b[43m,\u001b[49m\n\u001b[0;32m     41\u001b[0m \u001b[43m                    \u001b[49m\u001b[43mdownload\u001b[49m\u001b[38;5;241;43m=\u001b[39;49m\u001b[43mdownload\u001b[49m\u001b[43m)\u001b[49m\n\u001b[0;32m     42\u001b[0m     \u001b[38;5;28;01mif\u001b[39;00m join_household:\n\u001b[0;32m     43\u001b[0m         orig_len \u001b[38;5;241m=\u001b[39m \u001b[38;5;28mlen\u001b[39m(data)\n",
      "File \u001b[1;32m~\\anaconda3\\lib\\site-packages\\folktables\\load_acs.py:120\u001b[0m, in \u001b[0;36mload_acs\u001b[1;34m(root_dir, states, year, horizon, survey, density, random_seed, serial_filter_list, download)\u001b[0m\n\u001b[0;32m    116\u001b[0m first \u001b[38;5;241m=\u001b[39m \u001b[38;5;28;01mTrue\u001b[39;00m\n\u001b[0;32m    118\u001b[0m \u001b[38;5;28;01mfor\u001b[39;00m file_name \u001b[38;5;129;01min\u001b[39;00m file_names:\n\u001b[1;32m--> 120\u001b[0m     \u001b[38;5;28;01mwith\u001b[39;00m \u001b[38;5;28;43mopen\u001b[39;49m\u001b[43m(\u001b[49m\u001b[43mfile_name\u001b[49m\u001b[43m,\u001b[49m\u001b[43m \u001b[49m\u001b[38;5;124;43m'\u001b[39;49m\u001b[38;5;124;43mr\u001b[39;49m\u001b[38;5;124;43m'\u001b[39;49m\u001b[43m)\u001b[49m \u001b[38;5;28;01mas\u001b[39;00m f:\n\u001b[0;32m    122\u001b[0m         \u001b[38;5;28;01mif\u001b[39;00m first:\n\u001b[0;32m    123\u001b[0m             sample\u001b[38;5;241m.\u001b[39mwrite(\u001b[38;5;28mnext\u001b[39m(f))\n",
      "\u001b[1;31mFileNotFoundError\u001b[0m: [Errno 2] No such file or directory: 'data\\\\2018\\\\1-Year\\\\psam_p06.csv'"
     ]
    }
   ],
   "source": [
    "from folktables import ACSDataSource, ACSEmployment\n",
    "\n",
    "data_source = ACSDataSource(survey_year='2018', horizon='1-Year', survey='person')\n",
    "acs_data = data_source.get_data(states=['CA'], download=True)\n",
    "features, label, group = ACSEmployment.df_to_numpy(acs_data)"
   ]
  },
  {
   "cell_type": "code",
   "execution_count": 24,
   "id": "22a829c7",
   "metadata": {},
   "outputs": [
    {
     "ename": "NameError",
     "evalue": "name 'features' is not defined",
     "output_type": "error",
     "traceback": [
      "\u001b[1;31m---------------------------------------------------------------------------\u001b[0m",
      "\u001b[1;31mNameError\u001b[0m                                 Traceback (most recent call last)",
      "Input \u001b[1;32mIn [24]\u001b[0m, in \u001b[0;36m<cell line: 3>\u001b[1;34m()\u001b[0m\n\u001b[0;32m      1\u001b[0m \u001b[38;5;28;01mfrom\u001b[39;00m \u001b[38;5;21;01maif360\u001b[39;00m\u001b[38;5;21;01m.\u001b[39;00m\u001b[38;5;21;01mdatasets\u001b[39;00m \u001b[38;5;28;01mimport\u001b[39;00m StandardDataset\n\u001b[0;32m      2\u001b[0m \u001b[38;5;28;01mimport\u001b[39;00m \u001b[38;5;21;01mpandas\u001b[39;00m \u001b[38;5;28;01mas\u001b[39;00m \u001b[38;5;21;01mpd\u001b[39;00m\n\u001b[1;32m----> 3\u001b[0m data \u001b[38;5;241m=\u001b[39m pd\u001b[38;5;241m.\u001b[39mDataFrame(\u001b[43mfeatures\u001b[49m, columns \u001b[38;5;241m=\u001b[39m ACSEmployment\u001b[38;5;241m.\u001b[39mfeatures)\n\u001b[0;32m      4\u001b[0m data[\u001b[38;5;124m'\u001b[39m\u001b[38;5;124mlabel\u001b[39m\u001b[38;5;124m'\u001b[39m] \u001b[38;5;241m=\u001b[39m label\n\u001b[0;32m      5\u001b[0m favorable_classes \u001b[38;5;241m=\u001b[39m [\u001b[38;5;28;01mTrue\u001b[39;00m]\n",
      "\u001b[1;31mNameError\u001b[0m: name 'features' is not defined"
     ]
    }
   ],
   "source": [
    "from aif360.datasets import StandardDataset\n",
    "import pandas as pd\n",
    "data = pd.DataFrame(features, columns = ACSEmployment.features)\n",
    "data['label'] = label\n",
    "favorable_classes = [True]\n",
    "protected_attribute_names = [ACSEmployment.group]\n",
    "privileged_classes = np.array([[1]])\n",
    "data_for_aif = StandardDataset(data, 'label', favorable_classes = favorable_classes,\n",
    "protected_attribute_names = protected_attribute_names,\n",
    "privileged_classes = privileged_classes)\n",
    "privileged_groups = [{'SEX': 1}]\n",
    "unprivileged_groups = [{'SEX': 2}]"
   ]
  },
  {
   "cell_type": "code",
   "execution_count": null,
   "id": "889baf93",
   "metadata": {},
   "outputs": [],
   "source": []
  }
 ],
 "metadata": {
  "kernelspec": {
   "display_name": "Python 3 (ipykernel)",
   "language": "python",
   "name": "python3"
  },
  "language_info": {
   "codemirror_mode": {
    "name": "ipython",
    "version": 3
   },
   "file_extension": ".py",
   "mimetype": "text/x-python",
   "name": "python",
   "nbconvert_exporter": "python",
   "pygments_lexer": "ipython3",
   "version": "3.9.12"
  }
 },
 "nbformat": 4,
 "nbformat_minor": 5
}
